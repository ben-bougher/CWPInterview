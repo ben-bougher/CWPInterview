{
 "cells": [
  {
   "cell_type": "code",
   "execution_count": 1,
   "metadata": {},
   "outputs": [
    {
     "name": "stderr",
     "output_type": "stream",
     "text": [
      "Using Theano backend.\n"
     ]
    }
   ],
   "source": [
    "from util import parse_hub_data\n",
    "from sklearn import preprocessing\n",
    "import pandas as pd\n",
    "import numpy as np\n",
    "\n",
    "import keras\n",
    "from keras.models import Sequential, Model\n",
    "from keras.layers import Dense, Activation, LSTM,Input\n",
    "\n",
    "from matplotlib import pyplot as plt\n",
    "from keras.wrappers.scikit_learn import KerasRegressor\n",
    "%matplotlib inline"
   ]
  },
  {
   "cell_type": "code",
   "execution_count": 2,
   "metadata": {
    "collapsed": true
   },
   "outputs": [],
   "source": [
    "xls_file, hub_name, weather_station, load_station = \"test_data.xlsx\", \"MICHIGAN.HUB\", \"Detroit\", \"north\""
   ]
  },
  {
   "cell_type": "code",
   "execution_count": 3,
   "metadata": {
    "collapsed": true
   },
   "outputs": [],
   "source": [
    "df = parse_hub_data(hub_name=hub_name, xls_file=xls_file, \n",
    "                    weather_station=weather_station, load_station=load_station)"
   ]
  },
  {
   "cell_type": "code",
   "execution_count": 28,
   "metadata": {
    "collapsed": true
   },
   "outputs": [],
   "source": [
    "exogenous = extract_exogenous_variables(df)\n",
    "timeseries_profiles = extract_lagged_series(df, lags=[24]) \n",
    "labels = df[\"rtlmp\"]"
   ]
  },
  {
   "cell_type": "code",
   "execution_count": 12,
   "metadata": {
    "collapsed": true
   },
   "outputs": [],
   "source": [
    "ts, ex, truth = clean_data(timeseries_profiles, exogenous, labels)"
   ]
  },
  {
   "cell_type": "code",
   "execution_count": 14,
   "metadata": {},
   "outputs": [
    {
     "name": "stderr",
     "output_type": "stream",
     "text": [
      "/home/ben/anaconda3/envs/cwp-test/lib/python3.6/site-packages/sklearn/preprocessing/data.py:321: DeprecationWarning: Passing 1d arrays as data is deprecated in 0.17 and will raise ValueError in 0.19. Reshape your data either using X.reshape(-1, 1) if your data has a single feature or X.reshape(1, -1) if it contains a single sample.\n",
      "  warnings.warn(DEPRECATION_MSG_1D, DeprecationWarning)\n",
      "/home/ben/anaconda3/envs/cwp-test/lib/python3.6/site-packages/sklearn/preprocessing/data.py:356: DeprecationWarning: Passing 1d arrays as data is deprecated in 0.17 and will raise ValueError in 0.19. Reshape your data either using X.reshape(-1, 1) if your data has a single feature or X.reshape(1, -1) if it contains a single sample.\n",
      "  warnings.warn(DEPRECATION_MSG_1D, DeprecationWarning)\n",
      "/home/ben/anaconda3/envs/cwp-test/lib/python3.6/site-packages/sklearn/preprocessing/data.py:321: DeprecationWarning: Passing 1d arrays as data is deprecated in 0.17 and will raise ValueError in 0.19. Reshape your data either using X.reshape(-1, 1) if your data has a single feature or X.reshape(1, -1) if it contains a single sample.\n",
      "  warnings.warn(DEPRECATION_MSG_1D, DeprecationWarning)\n",
      "/home/ben/anaconda3/envs/cwp-test/lib/python3.6/site-packages/sklearn/preprocessing/data.py:356: DeprecationWarning: Passing 1d arrays as data is deprecated in 0.17 and will raise ValueError in 0.19. Reshape your data either using X.reshape(-1, 1) if your data has a single feature or X.reshape(1, -1) if it contains a single sample.\n",
      "  warnings.warn(DEPRECATION_MSG_1D, DeprecationWarning)\n"
     ]
    }
   ],
   "source": [
    "ts_train, ts_test, ex_train, ex_test, truth_train, truth_test, ts_scale, exo_scale, labels_scale = get_standardized_matrices(ts, ex, truth)"
   ]
  },
  {
   "cell_type": "code",
   "execution_count": 15,
   "metadata": {
    "collapsed": true
   },
   "outputs": [],
   "source": [
    "tsteps = 1\n",
    "batch_size = 25\n",
    "epochs = 25\n",
    "\n",
    "ts_input = Input(shape=(1,1), dtype='float32', name='ts_input', batch_shape=(batch_size,1,1))\n",
    "\n",
    "lstm_out = LSTM(50,input_shape=(tsteps, 1),batch_size=batch_size,\n",
    "               return_sequences=False,\n",
    "               stateful=True)(ts_input)\n",
    "\n",
    "lstm_predict = Dense(1, activation='linear', name='lstm_predict')(lstm_out)\n",
    "\n",
    "exo_input = Input(shape=(1,ex_train.shape[1]), dtype='float32', name='exo_input', batch_shape=(batch_size,5))\n",
    "#exo_input = Input(shape=(ex_train.shape[1],), name='exo_input')\n",
    "x = keras.layers.concatenate([lstm_out, exo_input])\n",
    "x = Dense(5, activation='tanh', batch_size=batch_size)(x)\n",
    "x = Dense(5, activation='tanh', batch_size=batch_size)(x)\n",
    "main_output = Dense(1, activation='linear', name='main_output', batch_size=batch_size)(x)\n",
    "\n",
    "model = Model(inputs=[ts_input,exo_input], outputs=[lstm_predict, main_output])\n",
    "model.compile(loss=\"mean_squared_error\", optimizer='adam', loss_weights=[1, 5])"
   ]
  },
  {
   "cell_type": "code",
   "execution_count": 16,
   "metadata": {},
   "outputs": [
    {
     "name": "stdout",
     "output_type": "stream",
     "text": [
      "Training\n",
      "Epoch 1/1\n",
      "8000/8000 [==============================] - 0s - loss: 0.1609 - lstm_predict_loss: 0.0309 - main_output_loss: 0.0260     \n",
      "Epoch 1/1\n",
      "8000/8000 [==============================] - 0s - loss: 0.0568 - lstm_predict_loss: 0.0124 - main_output_loss: 0.0089     \n",
      "Epoch 1/1\n",
      "8000/8000 [==============================] - 0s - loss: 0.0510 - lstm_predict_loss: 0.0109 - main_output_loss: 0.0080     \n",
      "Epoch 1/1\n",
      "8000/8000 [==============================] - 0s - loss: 0.0478 - lstm_predict_loss: 0.0100 - main_output_loss: 0.0076     \n",
      "Epoch 1/1\n",
      "8000/8000 [==============================] - 0s - loss: 0.0459 - lstm_predict_loss: 0.0093 - main_output_loss: 0.0073     \n",
      "Epoch 1/1\n",
      "8000/8000 [==============================] - 0s - loss: 0.0446 - lstm_predict_loss: 0.0089 - main_output_loss: 0.0072     \n",
      "Epoch 1/1\n",
      "8000/8000 [==============================] - 0s - loss: 0.0438 - lstm_predict_loss: 0.0085 - main_output_loss: 0.0071     \n",
      "Epoch 1/1\n",
      "8000/8000 [==============================] - 0s - loss: 0.0432 - lstm_predict_loss: 0.0083 - main_output_loss: 0.0070     \n",
      "Epoch 1/1\n",
      "8000/8000 [==============================] - 0s - loss: 0.0428 - lstm_predict_loss: 0.0081 - main_output_loss: 0.0069     \n",
      "Epoch 1/1\n",
      "8000/8000 [==============================] - 0s - loss: 0.0425 - lstm_predict_loss: 0.0079 - main_output_loss: 0.0069     \n",
      "Epoch 1/1\n",
      "8000/8000 [==============================] - 0s - loss: 0.0422 - lstm_predict_loss: 0.0078 - main_output_loss: 0.0069     \n",
      "Epoch 1/1\n",
      "8000/8000 [==============================] - 0s - loss: 0.0420 - lstm_predict_loss: 0.0077 - main_output_loss: 0.0069     \n",
      "Epoch 1/1\n",
      "8000/8000 [==============================] - 0s - loss: 0.0418 - lstm_predict_loss: 0.0076 - main_output_loss: 0.0068     \n",
      "Epoch 1/1\n",
      "8000/8000 [==============================] - 0s - loss: 0.0417 - lstm_predict_loss: 0.0076 - main_output_loss: 0.0068     \n",
      "Epoch 1/1\n",
      "8000/8000 [==============================] - 0s - loss: 0.0415 - lstm_predict_loss: 0.0075 - main_output_loss: 0.0068     \n",
      "Epoch 1/1\n",
      "8000/8000 [==============================] - 0s - loss: 0.0414 - lstm_predict_loss: 0.0075 - main_output_loss: 0.0068     \n",
      "Epoch 1/1\n",
      "8000/8000 [==============================] - 0s - loss: 0.0413 - lstm_predict_loss: 0.0074 - main_output_loss: 0.0068     \n",
      "Epoch 1/1\n",
      "8000/8000 [==============================] - 0s - loss: 0.0411 - lstm_predict_loss: 0.0074 - main_output_loss: 0.0067     \n",
      "Epoch 1/1\n",
      "8000/8000 [==============================] - 0s - loss: 0.0410 - lstm_predict_loss: 0.0074 - main_output_loss: 0.0067     \n",
      "Epoch 1/1\n",
      "8000/8000 [==============================] - 0s - loss: 0.0409 - lstm_predict_loss: 0.0073 - main_output_loss: 0.0067     \n",
      "Epoch 1/1\n",
      "8000/8000 [==============================] - 0s - loss: 0.0408 - lstm_predict_loss: 0.0073 - main_output_loss: 0.0067     \n",
      "Epoch 1/1\n",
      "8000/8000 [==============================] - 0s - loss: 0.0407 - lstm_predict_loss: 0.0073 - main_output_loss: 0.0067     \n",
      "Epoch 1/1\n",
      "8000/8000 [==============================] - 0s - loss: 0.0406 - lstm_predict_loss: 0.0073 - main_output_loss: 0.0067     \n",
      "Epoch 1/1\n",
      "8000/8000 [==============================] - 0s - loss: 0.0405 - lstm_predict_loss: 0.0073 - main_output_loss: 0.0066     \n",
      "Epoch 1/1\n",
      "8000/8000 [==============================] - 0s - loss: 0.0404 - lstm_predict_loss: 0.0073 - main_output_loss: 0.0066     \n"
     ]
    }
   ],
   "source": [
    "print('Training')\n",
    "for i in range(epochs):\n",
    "\n",
    "    model.fit([ts_train, ex_train],  [np.reshape(truth_train, (truth_train.shape[0],1)), truth_train],\n",
    "              batch_size=batch_size,\n",
    "              epochs=1,\n",
    "              verbose=1,\n",
    "              shuffle=False)\n",
    "    model.reset_states()\n"
   ]
  },
  {
   "cell_type": "code",
   "execution_count": 17,
   "metadata": {
    "collapsed": true
   },
   "outputs": [],
   "source": [
    "yhat1, yhat2 = model.predict([ts_test, ex_test], batch_size=batch_size)"
   ]
  },
  {
   "cell_type": "code",
   "execution_count": 27,
   "metadata": {},
   "outputs": [
    {
     "name": "stderr",
     "output_type": "stream",
     "text": [
      "/home/ben/anaconda3/envs/cwp-test/lib/python3.6/site-packages/sklearn/preprocessing/data.py:374: DeprecationWarning: Passing 1d arrays as data is deprecated in 0.17 and will raise ValueError in 0.19. Reshape your data either using X.reshape(-1, 1) if your data has a single feature or X.reshape(1, -1) if it contains a single sample.\n",
      "  warnings.warn(DEPRECATION_MSG_1D, DeprecationWarning)\n"
     ]
    },
    {
     "data": {
      "text/plain": [
       "(10, 40)"
      ]
     },
     "execution_count": 27,
     "metadata": {},
     "output_type": "execute_result"
    },
    {
     "data": {
      "image/png": "[encoded data removed]",
      "text/plain": [
       "<matplotlib.figure.Figure at 0x7f89947202e8>"
      ]
     },
     "metadata": {},
     "output_type": "display_data"
    }
   ],
   "source": [
    "plt.plot(labels_scale.inverse_transform(yhat2), 'b--')\n",
    "plt.plot(labels_scale.inverse_transform(truth_test), 'k-')\n",
    "plt.xlim(220,244)\n",
    "plt.ylim(10, 40)"
   ]
  },
  {
   "cell_type": "code",
   "execution_count": null,
   "metadata": {
    "collapsed": true
   },
   "outputs": [],
   "source": []
  },
  {
   "cell_type": "code",
   "execution_count": null,
   "metadata": {
    "collapsed": true
   },
   "outputs": [],
   "source": []
  }
 ],
 "metadata": {
  "kernelspec": {
   "display_name": "Python 3",
   "language": "python",
   "name": "python3"
  },
  "language_info": {
   "codemirror_mode": {
    "name": "ipython",
    "version": 3
   },
   "file_extension": ".py",
   "mimetype": "text/x-python",
   "name": "python",
   "nbconvert_exporter": "python",
   "pygments_lexer": "ipython3",
   "version": "3.6.1"
  }
 },
 "nbformat": 4,
 "nbformat_minor": 2
}
