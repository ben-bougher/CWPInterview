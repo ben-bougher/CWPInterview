{
 "cells": [
  {
   "cell_type": "code",
   "execution_count": 3,
   "metadata": {
    "collapsed": true
   },
   "outputs": [],
   "source": [
    "import pandas\n",
    "from datetime import datetime, timedelta\n",
    "import numpy as np\n",
    "from keras.models import Sequential\n",
    "from keras.layers import Dense, Activation\n",
    "from matplotlib import pyplot as plt\n",
    "from keras import regularizers\n",
    "\n",
    "%matplotlib inline"
   ]
  },
  {
   "cell_type": "code",
   "execution_count": 4,
   "metadata": {
    "collapsed": true
   },
   "outputs": [],
   "source": [
    "xls_file, hub_name, weather_station, load_station = \"test_data.xlsx\", \"MICHIGAN.HUB\", \"Detroit\", \"north\""
   ]
  },
  {
   "cell_type": "code",
   "execution_count": null,
   "metadata": {
    "collapsed": true
   },
   "outputs": [],
   "source": [
    "df = parse_hub_data(hub_name=hub_name, xls_file=xls_file, \n",
    "                    weather_station=weather_station, load_station=load_station)"
   ]
  },
  {
   "cell_type": "code",
   "execution_count": null,
   "metadata": {
    "collapsed": true
   },
   "outputs": [],
   "source": [
    "def extract_day_of_week(df):\n",
    "    \n",
    "    return [d.isoweekday() for d in df.index]"
   ]
  },
  {
   "cell_type": "code",
   "execution_count": null,
   "metadata": {
    "collapsed": true
   },
   "outputs": [],
   "source": [
    "def extract_lagged_prices(df, delta):\n",
    "    index = np.unique(df.index - delta)\n",
    "    return df.loc[index][\"rtlmp\"].values\n",
    "    "
   ]
  },
  {
   "cell_type": "code",
   "execution_count": null,
   "metadata": {
    "collapsed": true
   },
   "outputs": [],
   "source": [
    "def extract_demand_gradient(df):\n",
    "    \n",
    "    data = df[\"mtlf\"]\n",
    "    output = data - np.roll(data.values, 1)\n",
    "    \n",
    "    output[0] = np.nan\n",
    "    \n",
    "    return output\n",
    "    "
   ]
  },
  {
   "cell_type": "code",
   "execution_count": null,
   "metadata": {
    "collapsed": true
   },
   "outputs": [],
   "source": [
    "def extract_features(df):\n",
    "    \n",
    "    output = pandas.DataFrame(index=df.index)\n",
    "    \n",
    "    output[\"rtlmp\"] = df[\"rtlmp\"]\n",
    "    output[\"forecast_temperature\"] = df[\"temperature\"]\n",
    "    output[\"forecast_load\"] = df[\"mtlf\"]\n",
    "    output[\"hour\"] = df[\"hour\"]\n",
    "    \n",
    "    output[\"day_of_week\"] = extract_day_of_week(df)\n",
    "    \n",
    "    output[\"change_in_demand_prediction\"] = extract_demand_gradient(df)\n",
    "    \n",
    "    \n",
    "    output[\"t1\"] = extract_lagged_prices(df, np.timedelta64(1, \"D\"))\n",
    "    output[\"t2\"] = extract_lagged_prices(df, np.timedelta64(26, \"h\"))\n",
    "    output[\"t3\"] = extract_lagged_prices(df, np.timedelta64(27, \"h\"))\n",
    "    output[\"t4\"] = extract_lagged_prices(df, np.timedelta64(7, \"D\"))\n",
    "    output[\"t5\"] = extract_lagged_prices(df, np.timedelta64(7*24 -1, \"h\"))\n",
    "    output[\"t6\"] = extract_lagged_prices(df, np.timedelta64(7*24+1, \"h\"))\n",
    "    output[\"t7\"] = extract_lagged_prices(df, np.timedelta64(14, \"D\"))\n",
    "    output[\"t8\"] = extract_lagged_prices(df, np.timedelta64(21, \"D\"))\n",
    "    output[\"t9\"] = extract_lagged_prices(df, np.timedelta64(28, \"D\"))  \n",
    "    \n",
    "    return output.dropna()"
   ]
  },
  {
   "cell_type": "code",
   "execution_count": null,
   "metadata": {
    "collapsed": true
   },
   "outputs": [],
   "source": [
    "def split_into_training_data(df, training_cutoff_dates):\n",
    "    \n",
    "    X = df[[i for i in filter(lambda x: \"rtlmp\" not in x, df.columns)]]\n",
    "    y = df[\"rtlmp\"]\n",
    "    \n",
    "    from sklearn import preprocessing\n",
    "    norm = preprocessing.MinMaxScaler(feature_range=[-1,1]).fit(X.values).transform\n",
    "    normy = preprocessing.MinMaxScaler(feature_range=[-1,1]).fit(y.values)\n",
    "    norm2=normy.transform\n",
    "    \n",
    "    \n",
    "    training_cutoff = (df.index < training_cutoff_dates[1]) & (df.index > training_cutoff_dates[0])\n",
    "    return norm(X.loc[training_cutoff].values), norm(X.loc[~training_cutoff].values), norm2(y.loc[training_cutoff].values), norm2(y.loc[~training_cutoff].values), normy.inverse_transform"
   ]
  },
  {
   "cell_type": "code",
   "execution_count": null,
   "metadata": {
    "collapsed": true
   },
   "outputs": [],
   "source": [
    "d = parse_hub_data(xls_file, hub_name, weather_station, load_station)"
   ]
  },
  {
   "cell_type": "code",
   "execution_count": null,
   "metadata": {
    "collapsed": true
   },
   "outputs": [],
   "source": [
    "features = extract_features(d)"
   ]
  },
  {
   "cell_type": "code",
   "execution_count": null,
   "metadata": {
    "collapsed": true
   },
   "outputs": [],
   "source": [
    "Xtrain, Xtest, ytrain, ytest, norm = split_into_training_data(features, [np.datetime64(\"2016-01-01\"),np.datetime64(\"2016-08-05\")])"
   ]
  },
  {
   "cell_type": "code",
   "execution_count": null,
   "metadata": {
    "collapsed": true
   },
   "outputs": [],
   "source": [
    "def build_model(): \n",
    "    model = Sequential()\n",
    "\n",
    "    model.add(Dense(units=10, input_dim=Xtrain.shape[1]))\n",
    "    \n",
    "    model.add(Activation('tanh'))\n",
    "    model.add(Dense(units=5, kernel_regularizer=regularizers.l1(0.0001)))\n",
    "    model.add(Activation('tanh'))\n",
    "    model.add(Dense(units=1, activation=\"linear\"))\n",
    "\n",
    "    model.compile(loss='mean_squared_error', optimizer='adam')\n",
    "    \n",
    "    return model"
   ]
  },
  {
   "cell_type": "code",
   "execution_count": null,
   "metadata": {
    "collapsed": true
   },
   "outputs": [],
   "source": []
  },
  {
   "cell_type": "code",
   "execution_count": null,
   "metadata": {
    "collapsed": true
   },
   "outputs": [],
   "source": []
  },
  {
   "cell_type": "code",
   "execution_count": null,
   "metadata": {
    "collapsed": true
   },
   "outputs": [],
   "source": [
    "estimator.fit(Xtrain, ytrain)"
   ]
  },
  {
   "cell_type": "code",
   "execution_count": null,
   "metadata": {
    "collapsed": true
   },
   "outputs": [],
   "source": [
    "yhat = norm(estimator.predict(Xtest))"
   ]
  },
  {
   "cell_type": "code",
   "execution_count": null,
   "metadata": {
    "collapsed": true
   },
   "outputs": [],
   "source": []
  },
  {
   "cell_type": "code",
   "execution_count": null,
   "metadata": {
    "collapsed": true
   },
   "outputs": [],
   "source": [
    "from sklearn.linear_model import RidgeCV"
   ]
  },
  {
   "cell_type": "code",
   "execution_count": null,
   "metadata": {
    "collapsed": true
   },
   "outputs": [],
   "source": [
    "reg = RidgeCV()\n",
    "reg.fit(Xtrain, ytrain)\n",
    "yhat2 = norm(reg.predict(Xtest))\n",
    " "
   ]
  },
  {
   "cell_type": "code",
   "execution_count": null,
   "metadata": {
    "collapsed": true,
    "scrolled": false
   },
   "outputs": [],
   "source": [
    "for i in range(40):\n",
    "    plt.figure()\n",
    "    plt.plot(yhat[i*7*24:(i+1)*7*24], 'b-')\n",
    "    plt.plot(yhat2[i*7*24:(i+1)*7*24], 'g-')\n",
    "    plt.plot(norm(ytest[i*7*24:(i+1)*7*24]), 'k-')"
   ]
  },
  {
   "cell_type": "code",
   "execution_count": null,
   "metadata": {
    "collapsed": true
   },
   "outputs": [],
   "source": [
    "from keras.layers import Input, Dense\n",
    "from keras.models import Model\n",
    "encoding_dim = 10\n",
    "\n",
    "input_vector = Input(shape=(Xtest.shape[1],))\n",
    "\n",
    "# add a Dense layer with a L1 activity regularizer\n",
    "encoded = Dense(encoding_dim, activation='relu',\n",
    "                activity_regularizer=regularizers.l1(10e-5))(input_vector)\n",
    "decoded = Dense(784, activation='sigmoid')(encoded)\n",
    "\n",
    "autoencoder = Model(input_vector, decoded)"
   ]
  },
  {
   "cell_type": "code",
   "execution_count": null,
   "metadata": {
    "collapsed": true
   },
   "outputs": [],
   "source": []
  },
  {
   "cell_type": "code",
   "execution_count": null,
   "metadata": {
    "collapsed": true
   },
   "outputs": [],
   "source": []
  },
  {
   "cell_type": "code",
   "execution_count": null,
   "metadata": {
    "collapsed": true
   },
   "outputs": [],
   "source": []
  }
 ],
 "metadata": {
  "kernelspec": {
   "display_name": "Python 3",
   "language": "python",
   "name": "python3"
  },
  "language_info": {
   "codemirror_mode": {
    "name": "ipython",
    "version": 3
   },
   "file_extension": ".py",
   "mimetype": "text/x-python",
   "name": "python",
   "nbconvert_exporter": "python",
   "pygments_lexer": "ipython3",
   "version": "3.6.1"
  }
 },
 "nbformat": 4,
 "nbformat_minor": 2
}
